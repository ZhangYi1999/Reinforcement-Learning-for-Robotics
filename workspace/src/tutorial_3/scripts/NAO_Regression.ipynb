{
 "cells": [
  {
   "cell_type": "code",
   "execution_count": 51,
   "metadata": {},
   "outputs": [],
   "source": [
    "import numpy as np\n",
    "import matplotlib.pyplot as plt"
   ]
  },
  {
   "cell_type": "code",
   "execution_count": 52,
   "metadata": {},
   "outputs": [],
   "source": [
    "data_folder = ''\n",
    "\n",
    "dataset = np.loadtxt(data_folder + 'data.txt')\n",
    "X_train = dataset[:,:2]\n",
    "Y_train = dataset[:,2:]"
   ]
  },
  {
   "cell_type": "code",
   "execution_count": 53,
   "metadata": {},
   "outputs": [],
   "source": [
    "def init(x,y):\n",
    "    \n",
    "    layer=np.random.uniform(-1.,1.,size=(x,y))/np.sqrt(x*y)\n",
    "    return layer.astype(np.float32)\n",
    "\n",
    "np.random.seed(42)\n",
    "l1=init(2,128)\n",
    "l2=init(128,2)"
   ]
  },
  {
   "cell_type": "code",
   "execution_count": 54,
   "metadata": {},
   "outputs": [],
   "source": [
    "#Sigmoid funstion\n",
    "def sigmoid(x):\n",
    "    return 1/(np.exp(-x)+1)    \n",
    "\n",
    "#derivative of sigmoid\n",
    "def d_sigmoid(x):\n",
    "    return (np.exp(-x))/((np.exp(-x)+1)**2)"
   ]
  },
  {
   "cell_type": "code",
   "execution_count": 55,
   "metadata": {},
   "outputs": [],
   "source": [
    "#Softmax\n",
    "def softmax(x):\n",
    "    exp_element=np.exp(x-x.max())\n",
    "    return exp_element/np.sum(exp_element,axis=0)\n",
    "\n",
    "#derivative of softmax\n",
    "def d_softmax(x):\n",
    "    exp_element=np.exp(x-x.max())\n",
    "    return exp_element/np.sum(exp_element,axis=0)*(1-exp_element/np.sum(exp_element,axis=0))"
   ]
  },
  {
   "cell_type": "code",
   "execution_count": 56,
   "metadata": {},
   "outputs": [],
   "source": [
    "#forward and backward pass\n",
    "def forward_backward_pass(x,y):\n",
    "    targets = y\n",
    " \n",
    "    \n",
    "    x_l1=x.dot(l1)\n",
    "    x_sigmoid=sigmoid(x_l1)\n",
    "    x_l2=x_sigmoid.dot(l2)\n",
    "    out=x_l2\n",
    "   \n",
    " \n",
    "    error=2*(out-targets)/out.shape[0]\n",
    "    update_l2=np.matmul(x_sigmoid.T,error)\n",
    "    \n",
    "    \n",
    "    error=((l2).dot(error.T)).T*d_sigmoid(x_l1)\n",
    "    update_l1=np.matmul(x.T,error)\n",
    "\n",
    "    return out,update_l1,update_l2 "
   ]
  },
  {
   "cell_type": "code",
   "execution_count": 61,
   "metadata": {},
   "outputs": [],
   "source": [
    "#forward and backward pass\n",
    "def forward_pass(x):\n",
    "    \n",
    "    x_l1 = x.dot(l1)\n",
    "    x_sigmoid = sigmoid(x_l1)\n",
    "    x_l2 = x_sigmoid.dot(l2)\n",
    "    out = x_l2\n",
    "   \n",
    "    return out"
   ]
  },
  {
   "cell_type": "code",
   "execution_count": 59,
   "metadata": {},
   "outputs": [
    {
     "name": "stdout",
     "output_type": "stream",
     "text": [
      "For 0th epoch: train accuracy: 0.003 \n",
      "For 10th epoch: train accuracy: -0.000 \n",
      "For 20th epoch: train accuracy: 0.001 \n",
      "For 30th epoch: train accuracy: 0.002 \n",
      "For 40th epoch: train accuracy: -0.001 \n",
      "For 50th epoch: train accuracy: 0.004 \n",
      "For 60th epoch: train accuracy: 0.005 \n",
      "For 70th epoch: train accuracy: -0.001 \n",
      "For 80th epoch: train accuracy: 0.004 \n",
      "For 90th epoch: train accuracy: -0.002 \n",
      "For 100th epoch: train accuracy: 0.001 \n",
      "For 110th epoch: train accuracy: 0.001 \n",
      "For 120th epoch: train accuracy: 0.001 \n",
      "For 130th epoch: train accuracy: 0.002 \n",
      "For 140th epoch: train accuracy: 0.003 \n",
      "For 150th epoch: train accuracy: 0.001 \n",
      "For 160th epoch: train accuracy: 0.004 \n",
      "For 170th epoch: train accuracy: -0.004 \n",
      "For 180th epoch: train accuracy: -0.002 \n",
      "For 190th epoch: train accuracy: 0.001 \n",
      "For 200th epoch: train accuracy: 0.006 \n",
      "For 210th epoch: train accuracy: -0.001 \n",
      "For 220th epoch: train accuracy: 0.006 \n",
      "For 230th epoch: train accuracy: -0.002 \n",
      "For 240th epoch: train accuracy: 0.001 \n",
      "For 250th epoch: train accuracy: 0.008 \n",
      "For 260th epoch: train accuracy: 0.004 \n",
      "For 270th epoch: train accuracy: 0.003 \n",
      "For 280th epoch: train accuracy: 0.002 \n",
      "For 290th epoch: train accuracy: 0.006 \n"
     ]
    }
   ],
   "source": [
    "epochs = 300\n",
    "lr = 0.01\n",
    "batch = 128\n",
    "\n",
    "losses,accuracies,val_accuracies=[],[],[]\n",
    "\n",
    "for i in range(epochs):\n",
    "    sample=np.random.randint(0,X_train.shape[0],size=(batch))\n",
    "    x=X_train[sample]\n",
    "    y=Y_train[sample]\n",
    " \n",
    "\n",
    "    out,update_l1,update_l2=forward_backward_pass(x,y)\n",
    "  \n",
    "    #category=np.argmax(out,axis=1)\n",
    "    accuracy=((out-y)/y).mean()\n",
    "    accuracies.append(accuracy)\n",
    "    \n",
    "    loss=((out-y)**2).mean()\n",
    "    losses.append(loss.item())\n",
    "    \n",
    "    l1=l1-lr*update_l1\n",
    "    l2=l2-lr*update_l2\n",
    "    \n",
    "#    if(i%2==0):    \n",
    "#        X_val=X_val.reshape((-1,28*28))\n",
    "#        val_out=np.argmax(softmax(sigmoid(X_val.dot(l1)).dot(l2)),axis=1)\n",
    "#        val_acc=(val_out==Y_val).mean()\n",
    "#        val_accuracies.append(val_acc.item())\n",
    "    if(i%10==0): print('For %dth epoch: train accuracy: %.3f ' % (i, accuracy))"
   ]
  },
  {
   "cell_type": "code",
   "execution_count": 64,
   "metadata": {},
   "outputs": [
    {
     "name": "stdout",
     "output_type": "stream",
     "text": [
      "[0.43160998 0.93749627]\n",
      "[0.42298615 0.96625639]\n"
     ]
    }
   ],
   "source": [
    "print(Y_train[5])\n",
    "output = forward_pass(X_train[5])\n",
    "\n",
    "print(output)"
   ]
  },
  {
   "cell_type": "code",
   "execution_count": 1,
   "metadata": {},
   "outputs": [
    {
     "ename": "NameError",
     "evalue": "name 'l1' is not defined",
     "output_type": "error",
     "traceback": [
      "\u001b[0;31m\u001b[0m",
      "\u001b[0;31mNameError\u001b[0mTraceback (most recent call last)",
      "\u001b[0;32m<ipython-input-1-9957399d2fc4>\u001b[0m in \u001b[0;36m<module>\u001b[0;34m()\u001b[0m\n\u001b[0;32m----> 1\u001b[0;31m \u001b[0;32mprint\u001b[0m\u001b[0;34m(\u001b[0m\u001b[0ml1\u001b[0m\u001b[0;34m)\u001b[0m\u001b[0;34m\u001b[0m\u001b[0m\n\u001b[0m",
      "\u001b[0;31mNameError\u001b[0m: name 'l1' is not defined"
     ]
    }
   ],
   "source": [
    "print(l1)"
   ]
  },
  {
   "cell_type": "code",
   "execution_count": null,
   "metadata": {},
   "outputs": [],
   "source": []
  }
 ],
 "metadata": {
  "kernelspec": {
   "display_name": "Python 2.7.12 64-bit",
   "name": "python2712jvsc74a57bd0767d51c1340bd893661ea55ea3124f6de3c7a262a8b4abca0554b478b1e2ff90"
  },
  "language_info": {
   "codemirror_mode": {
    "name": "ipython",
    "version": 2
   },
   "file_extension": ".py",
   "mimetype": "text/x-python",
   "name": "python",
   "nbconvert_exporter": "python",
   "pygments_lexer": "ipython2",
   "version": "2.7.12"
  },
  "metadata": {
   "interpreter": {
    "hash": "767d51c1340bd893661ea55ea3124f6de3c7a262a8b4abca0554b478b1e2ff90"
   }
  }
 },
 "nbformat": 4,
 "nbformat_minor": 5
}